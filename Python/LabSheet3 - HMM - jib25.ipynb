{
 "cells": [
  {
   "cell_type": "code",
   "execution_count": 1,
   "metadata": {},
   "outputs": [],
   "source": [
    "#LabSheet3 HMM\n",
    "#jib25 \n",
    "\n",
    "#import pandas for the use of tables\n",
    "import pandas"
   ]
  },
  {
   "cell_type": "code",
   "execution_count": 2,
   "metadata": {},
   "outputs": [],
   "source": [
    "#Set up basic values\n",
    "#Pi\n",
    "initialStates = [-1,-1]  #l,H\n",
    "\n",
    "#S\n",
    "hiddenStates = [\"L\",\"H\"]\n",
    "\n",
    "#T\n",
    "hiddenStatesTransition = {\"L\":{\"L\":-0.737,\"H\":-1.322}, \"H\":{\"L\":-1,\"H\":-1}}\n",
    "\n",
    "#E\n",
    "transitionMatrix = {\"L\": {\"A\": -1.737, \"C\": -2.322, \"G\": -2.322, \"T\": -1.737},\n",
    "                    \"H\": {\"A\": -2.322, \"C\": -1.737, \"G\": -1.737, \"T\": -2.322}}\n",
    "\n",
    "observations = [\"G\",\"G\",\"C\",\"A\",\"C\",\"T\",\"G\",\"A\",\"A\"]\n",
    "\n"
   ]
  },
  {
   "cell_type": "code",
   "execution_count": 38,
   "metadata": {},
   "outputs": [],
   "source": [
    "def Viterbi(observations, hiddenStates, initialStates, hiddenStatesTransition, transitionMatrix):\n",
    "    #store: the output of calculations, maximums at each stage, most probable path\n",
    "    output = []\n",
    "    maxDecisions = []\n",
    "    path = []\n",
    "    \n",
    "    #add out put for each hidden state\n",
    "    for h in hiddenStates:\n",
    "        output.append([])\n",
    "        maxDecisions.append([])\n",
    "        \n",
    "    #calc the first prediction (hidden state to observation 1)\n",
    "    for firstPredict in range(len(output)):\n",
    "        output[firstPredict].append(initialStates[firstPredict] + transitionMatrix[hiddenStates[firstPredict]][observations[0]])\n",
    "\n",
    "    #for every remaining prediction\n",
    "    for predict in range(1,len(observations)):\n",
    "        #for every state in that prediction\n",
    "        for state in range(len(hiddenStates)):\n",
    "            #find the previous predictions\n",
    "            previous = []\n",
    "            for h in range(len(hiddenStates)):\n",
    "                previous.append(output[h][predict-1] + hiddenStatesTransition[hiddenStates[h]][hiddenStates[state]])\n",
    "            #store which state was chosen as the maximum\n",
    "            maxDecisions[state].append(previous.index(max(previous)))\n",
    "            #use Viterbi formula to calculate probability, store in output\n",
    "            output[state].append(transitionMatrix[hiddenStates[state]][observations[predict]] + max(previous))  \n",
    "            \n",
    "    #print output and maximum decisions taken in table format\n",
    "    print(pandas.DataFrame(output,hiddenStates,observations),\"\\n\")\n",
    "    print(\"Maximum Decisions:\\n\", pandas.DataFrame(maxDecisions,hiddenStates))\n",
    "    \n",
    "    #backtrack for most probable path\n",
    "    pathEnd = 0\n",
    "    pathEndValue = output[0][len(output[0])-1]\n",
    "    #for each ending value of output\n",
    "    for endState in range(1,len(hiddenStates)):\n",
    "        #if it ends at a higher value than the currently selected one\n",
    "        if(output[endState][len(output[endState])-1] > pathEndValue):\n",
    "            #choose this one as the new maximum\n",
    "            pathEnd = endState\n",
    "            pathEndValue = output[endState][len(output)-1]\n",
    "    #print the hidden state chosen as the last state\n",
    "    print(\"Ending on state:\",hiddenStates[pathEnd])\n",
    "    \n",
    "    #find the probable path using maximum decisions taken, up until last \n",
    "    for state in range(0,len(output[pathEnd])-1):\n",
    "        path.append(hiddenStates[maxDecisions[pathEnd][state]])\n",
    "    #add the final state calculated earlier\n",
    "    path.append(hiddenStates[pathEnd])\n",
    "    #print the path\n",
    "    print(\"Path:\",\", \".join(path))"
   ]
  },
  {
   "cell_type": "code",
   "execution_count": 39,
   "metadata": {},
   "outputs": [
    {
     "name": "stdout",
     "output_type": "stream",
     "text": [
      "       G      G      C       A       C       T      G       A       A\n",
      "L -3.322 -6.059 -8.796 -10.948 -14.007 -16.481 -19.54 -22.014 -24.488\n",
      "H -2.737 -5.474 -8.211 -11.533 -14.007 -17.329 -19.54 -22.862 -25.658 \n",
      "\n",
      "Maximum Decisions:\n",
      "    0  1  2  3  4  5  6  7\n",
      "L  1  1  1  0  0  0  0  0\n",
      "H  1  1  1  0  1  0  1  0\n",
      "Ending on state: L\n",
      "Path: H, H, H, L, L, L, L, L, L\n"
     ]
    }
   ],
   "source": [
    "Viterbi(observations, hiddenStates, initialStates, hiddenStatesTransition, transitionMatrix)"
   ]
  },
  {
   "cell_type": "code",
   "execution_count": null,
   "metadata": {},
   "outputs": [],
   "source": []
  }
 ],
 "metadata": {
  "kernelspec": {
   "display_name": "Python 3",
   "language": "python",
   "name": "python3"
  },
  "language_info": {
   "codemirror_mode": {
    "name": "ipython",
    "version": 3
   },
   "file_extension": ".py",
   "mimetype": "text/x-python",
   "name": "python",
   "nbconvert_exporter": "python",
   "pygments_lexer": "ipython3",
   "version": "3.7.4"
  }
 },
 "nbformat": 4,
 "nbformat_minor": 2
}
