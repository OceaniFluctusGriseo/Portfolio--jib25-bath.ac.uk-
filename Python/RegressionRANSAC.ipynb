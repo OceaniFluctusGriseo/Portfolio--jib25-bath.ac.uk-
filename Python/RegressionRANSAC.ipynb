{
 "cells": [
  {
   "cell_type": "markdown",
   "metadata": {},
   "source": [
    "## Linear Regression and RANSAC"
   ]
  },
  {
   "cell_type": "raw",
   "metadata": {},
   "source": [
    "This example is adapted from: https://scikit-learn.org/stable/auto_examples/linear_model/plot_ransac.html"
   ]
  },
  {
   "cell_type": "code",
   "execution_count": 1,
   "metadata": {},
   "outputs": [],
   "source": [
    "# Load the modules we need\n",
    "import numpy as np\n",
    "from matplotlib import pyplot as plt\n",
    "from sklearn import linear_model, datasets\n",
    "# need logarithm and random int functions\n",
    "from math import log, sqrt\n",
    "from random import randint"
   ]
  },
  {
   "cell_type": "code",
   "execution_count": 2,
   "metadata": {},
   "outputs": [],
   "source": [
    "#  Create some intial data\n",
    "n_samples = 1000\n",
    "\n",
    "X, y = datasets.make_regression(n_samples=n_samples, n_features=1,\n",
    "                                      n_informative=1, noise=10,\n",
    "                                      random_state=0)"
   ]
  },
  {
   "cell_type": "code",
   "execution_count": 3,
   "metadata": {},
   "outputs": [],
   "source": [
    "# Add some outlier data\n",
    "np.random.seed(0)\n",
    "n_outliers = 50\n",
    "X[:n_outliers] = 3 + 0.5 * np.random.normal(size=(n_outliers, 1))\n",
    "y[:n_outliers] = -3 + 10 * np.random.normal(size=n_outliers)"
   ]
  },
  {
   "cell_type": "code",
   "execution_count": 4,
   "metadata": {},
   "outputs": [],
   "source": [
    "# Create some test positions for for the lines we will draw\n",
    "line_X = np.arange(X.min(), X.max())[:, np.newaxis]"
   ]
  },
  {
   "cell_type": "code",
   "execution_count": 62,
   "metadata": {},
   "outputs": [
    {
     "name": "stdout",
     "output_type": "stream",
     "text": [
      "alpha: 75479.19544988453\n",
      "beta: 1412.977858637936\n",
      "gamma: 113.7200731182464\n",
      "delta: -3205.981248354341\n",
      "m: 54.17236386901523 \n",
      "c: -9.366466428527001\n",
      "line_y: [array([-174.38323639]), array([-120.21087252]), array([-66.03850865]), array([-11.86614478]), array([42.30621909]), array([96.47858295]), array([150.65094682]), array([204.82331069])]\n"
     ]
    }
   ],
   "source": [
    "# This is the cell you need to replace to complete Task 2.\n",
    "\n",
    "#instantiate y value and values alpha-delta\n",
    "line_y = []\n",
    "alpha, beta, gamma, delta = 0,0,0,0\n",
    "\n",
    "#calculate values alpha-delta\n",
    "for i in range(n_samples):\n",
    "    alpha += (X[i][0])*(y[i])\n",
    "    beta += (X[i][0])**2\n",
    "    gamma += X[i][0]\n",
    "    delta += y[i]\n",
    "print(\"alpha:\",alpha)\n",
    "print(\"beta:\",beta)\n",
    "print(\"gamma:\",gamma)\n",
    "print(\"delta:\",delta)\n",
    "\n",
    "#form matrices of equation and calculate m and c\n",
    "m1 = np.array([[beta, gamma],[gamma,n_samples]])\n",
    "m2 = np.array([[alpha],[delta]])\n",
    "m,c = np.dot(np.linalg.inv(m1),m2) \n",
    "print(\"m:\",m[0],\"\\nc:\",c[0])\n",
    "\n",
    "#calculate y values for given x values using m and c\n",
    "for j in range(len(line_X)):\n",
    "    line_y.append((m*line_X[j])+c)\n",
    "print(\"line_y:\",line_y)"
   ]
  },
  {
   "cell_type": "code",
   "execution_count": 64,
   "metadata": {},
   "outputs": [
    {
     "name": "stdout",
     "output_type": "stream",
     "text": [
      "n: 6\n",
      "Model 1 m: [87.7774766] c: [-5.43069224]\n",
      "Model 2 m: [69.42272431] c: [-4.19932871]\n",
      "Model 3 m: [90.91005652] c: [-6.20682751]\n",
      "Model 4 m: [84.37970653] c: [6.45042175]\n",
      "Model 5 m: [-34.75798884] c: [73.70345618]\n",
      "Model 6 m: [163.86309455] c: [-37.18096227]\n",
      "line_y_ransac: [array([-272.81344296]), array([-185.03596636]), array([-97.25848976]), array([-9.48101316]), array([78.29646345]), array([166.07394005]), array([253.85141665]), array([341.62889325])]\n"
     ]
    }
   ],
   "source": [
    "# This is the cell you need to replace to complete Task 3.\n",
    "# Robustly fit linear model with RANSAC algorithm\n",
    "#ransac = linear_model.RANSACRegressor()\n",
    "#ransac.fit(X, y)\n",
    "\n",
    "line_y_ransac = []\n",
    "# s = min samples to form a model (line in 2D in this case)\n",
    "s = 2\n",
    "# e = proportion of outliers\n",
    "e = n_outliers/n_samples \n",
    "# p = confidence level in model, 99.9999% is good\n",
    "p = 0.999999\n",
    "# n = number of iterations, calc using formula\n",
    "n = round((log(1-p))/(log(1-((1-e)**2))))\n",
    "print(\"n:\",n)\n",
    "# d = distance to count in inlier threshold, chosen empirically\n",
    "d = 1\n",
    "\n",
    "# Predict data of estimated models\n",
    "#line_y_ransac = ransac.predict(line_X)\n",
    "#print(line_y_ransac)\n",
    "\n",
    "#instantiate basic values\n",
    "i1, i2 = 0,0\n",
    "model = []\n",
    "inlier_mask = []\n",
    "outlier_mask = []\n",
    "inliers = 0\n",
    "\n",
    "#func: calculate m and c for line using two points\n",
    "def calculateLine2D(p1,p2):\n",
    "    m = (p2[1] - p1[1]) / (p2[0] - p1[0])\n",
    "    c = p2[1] - m*p2[0] \n",
    "    return m,c\n",
    "\n",
    "#func: calculate perpendicular distance a point is from a line\n",
    "def calcDistPointFromLine(line, point):\n",
    "    return (abs(line[0]*point[0]-point[1]+line[1]))/(sqrt((line[0]**2)+1))\n",
    "\n",
    "#for n interations\n",
    "for i in range(n):\n",
    "    #choose two random different coords for sample\n",
    "    i1 = randint(0,n_samples)\n",
    "    i2 = randint(0,n_samples)\n",
    "    while(i1 == i2):\n",
    "        i2 = randint(0,n_samples)\n",
    "    \n",
    "    #create a line from those two points\n",
    "    createModel = calculateLine2D([X[i1],y[i1]],[X[i2],y[i2]])\n",
    "    print(\"Model\",i+1,\"m:\",createModel[0],\"c:\",createModel[1])\n",
    "    \n",
    "    #instantiate vars to count inliers\n",
    "    tempInlier = []\n",
    "    tempInliers = 0;\n",
    "    #for every point \n",
    "    for point in range(n_samples):\n",
    "        #if it is an inlier, count it as such\n",
    "        if(point != i1 and point != i2):\n",
    "            if(calcDistPointFromLine(createModel,[X[point],y[point]]) < d):\n",
    "                tempInlier.append(True)\n",
    "                tempInliers += 1\n",
    "            else:\n",
    "                tempInlier.append(False)\n",
    "        else:\n",
    "            tempInlier.append(True)\n",
    "    #if this model has the most inliers, use it as the new model\n",
    "    if(tempInliers > inliers): \n",
    "        model = createModel\n",
    "        inlier_mask = tempInlier\n",
    "        inliers = tempInliers\n",
    "\n",
    "outlier_mask = np.logical_not(inlier_mask)\n",
    "    \n",
    "# Label the if source data is inlier or outlier\n",
    "#inlier_mask = ransac.inlier_mask_\n",
    "#outlier_mask = np.logical_not(inlier_mask)\n",
    "\n",
    "for j in range(len(line_X)):\n",
    "    line_y_ransac.append((model[0]*line_X[j])+model[1])\n",
    "print(\"line_y_ransac:\",line_y_ransac)"
   ]
  },
  {
   "cell_type": "code",
   "execution_count": 65,
   "metadata": {},
   "outputs": [
    {
     "data": {
      "image/png": "[encoded data removed]",
      "text/plain": [
       "<Figure size 432x288 with 1 Axes>"
      ]
     },
     "metadata": {
      "needs_background": "light"
     },
     "output_type": "display_data"
    }
   ],
   "source": [
    "lw = 2\n",
    "\n",
    "doing_linear = True\n",
    "doing_ransac = True\n",
    "\n",
    "if (doing_linear):\n",
    "    plt.plot(line_X, line_y, color='navy', linewidth=lw, label='Linear regressor')\n",
    "\n",
    "if (doing_ransac):\n",
    "    plt.scatter(X[inlier_mask], y[inlier_mask], color='yellowgreen', marker='.', label='Inliers')\n",
    "    plt.scatter(X[outlier_mask], y[outlier_mask], color='gold', marker='.', label='Outliers')\n",
    "    plt.plot(line_X, line_y_ransac, color='cornflowerblue', linewidth=lw, label='RANSAC regressor')\n",
    "else:\n",
    "    plt.scatter(X, y, color='yellowgreen', marker='.', label='Data')\n",
    "    \n",
    "plt.legend(loc='lower right')\n",
    "plt.xlabel(\"Input\")\n",
    "plt.ylabel(\"Response\")\n",
    "plt.show()"
   ]
  },
  {
   "cell_type": "code",
   "execution_count": null,
   "metadata": {},
   "outputs": [],
   "source": []
  },
  {
   "cell_type": "code",
   "execution_count": null,
   "metadata": {},
   "outputs": [],
   "source": []
  }
 ],
 "metadata": {
  "kernelspec": {
   "display_name": "Python 3",
   "language": "python",
   "name": "python3"
  },
  "language_info": {
   "codemirror_mode": {
    "name": "ipython",
    "version": 3
   },
   "file_extension": ".py",
   "mimetype": "text/x-python",
   "name": "python",
   "nbconvert_exporter": "python",
   "pygments_lexer": "ipython3",
   "version": "3.7.4"
  }
 },
 "nbformat": 4,
 "nbformat_minor": 2
}
