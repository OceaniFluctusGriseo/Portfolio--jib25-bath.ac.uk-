{
 "cells": [
  {
   "cell_type": "markdown",
   "metadata": {},
   "source": [
    "# Solving Sudoku\n",
    "\n",
    "The primary description of this coursework is available on the CM20252 Moodle page. This is the Jupyter notebook you must complete and submit to receive marks. \n",
    "\n",
    "** You must follow all instructions given in this notebook. **\n",
    "\n",
    "Restart the kernel and run all cells before submitting the notebook. This will guarantee that we will be able to run your code for testing.\n",
    "\n",
    "Remember to save your work regularly. "
   ]
  },
  {
   "cell_type": "markdown",
   "metadata": {},
   "source": [
    "## Getting Started\n",
    "\n",
    "You already know that you will be writing a Sudoku solver. You need to implement your solver in Python in this notebook. You can use any of the appropriate problem-solving techniques discussed in the lectures. You are encouraged to modify the basic algorithms. Be creative. \n",
    "\n",
    "You will be given Sudoku puzzles that either have a single solution or no solution. You will need to identify the solution, if there is one.\n",
    "\n",
    "Below is a sample puzzle along with its solution. \n",
    "\n",
    "<img src=\"images/Sudoku_unsolved.png\" style=\"width: 200px;\"/>\n",
    "<img src=\"images/Sudoku_solved.png\" style=\"width: 200px;\"/>\n"
   ]
  },
  {
   "cell_type": "markdown",
   "metadata": {},
   "source": [
    "## Sample Sudokus\n",
    "\n",
    "You can test your code on a set of 20 sample Sudoku puzzles. This set is similar to the test set that will be used to assess your work. \n",
    "\n",
    "The following code will load 20 Sudoku puzzles and their solutions into two `20x9x9` numpy arrays. Empty cells are designated by zeros. "
   ]
  },
  {
   "cell_type": "code",
   "execution_count": 1,
   "metadata": {},
   "outputs": [
    {
     "name": "stdout",
     "output_type": "stream",
     "text": [
      "Shape of one sudoku array: (9, 9) . Type of array values: float64\n",
      "Shape of one sudoku solution array: (9, 9) . Type of array values: float64 \n",
      "\n",
      "Sudoku #1:\n",
      "[[0. 0. 4. 0. 8. 3. 0. 0. 2.]\n",
      " [0. 5. 1. 0. 0. 4. 3. 0. 0.]\n",
      " [0. 0. 0. 0. 9. 6. 7. 1. 0.]\n",
      " [1. 2. 0. 8. 0. 0. 0. 0. 6.]\n",
      " [0. 4. 0. 0. 0. 0. 5. 0. 0.]\n",
      " [8. 3. 0. 6. 0. 7. 9. 0. 0.]\n",
      " [0. 6. 0. 3. 0. 9. 0. 4. 0.]\n",
      " [0. 0. 7. 0. 0. 0. 2. 0. 5.]\n",
      " [0. 9. 0. 0. 5. 0. 8. 0. 3.]] \n",
      "\n",
      "Solution of Sudoku #1:\n",
      "[[9. 7. 4. 1. 8. 3. 6. 5. 2.]\n",
      " [6. 5. 1. 2. 7. 4. 3. 8. 9.]\n",
      " [2. 8. 3. 5. 9. 6. 7. 1. 4.]\n",
      " [1. 2. 9. 8. 3. 5. 4. 7. 6.]\n",
      " [7. 4. 6. 9. 1. 2. 5. 3. 8.]\n",
      " [8. 3. 5. 6. 4. 7. 9. 2. 1.]\n",
      " [5. 6. 8. 3. 2. 9. 1. 4. 7.]\n",
      " [3. 1. 7. 4. 6. 8. 2. 9. 5.]\n",
      " [4. 9. 2. 7. 5. 1. 8. 6. 3.]]\n"
     ]
    }
   ],
   "source": [
    "import numpy as np\n",
    "import math\n",
    "\n",
    "# Load sudokus\n",
    "sudokus = np.load(\"data/sudokus.npy\")\n",
    "print(\"Shape of one sudoku array:\", sudokus[0].shape, \". Type of array values:\", sudokus.dtype)\n",
    "\n",
    "# Load solutions\n",
    "solutions = np.load(\"data/sudoku_solutions.npy\")\n",
    "print(\"Shape of one sudoku solution array:\", solutions[0].shape, \". Type of array values:\", solutions.dtype, \"\\n\")\n",
    "\n",
    "# Print the first sudoku...\n",
    "print(\"Sudoku #1:\")\n",
    "print(sudokus[0], \"\\n\")\n",
    "\n",
    "# ...and its solution\n",
    "print(\"Solution of Sudoku #1:\")\n",
    "print(solutions[0])"
   ]
  },
  {
   "cell_type": "markdown",
   "metadata": {},
   "source": [
    "## Your code ##\n",
    "\n",
    "Define a function called `sudoku_solver()` that takes **one** Sudoku puzzle (a $9 \\times 9$ numpy array) as input and returns the solved Sudoku as a $9 \\times 9$ numpy array. Note that the test set may contain invalid Sudokus, that is, Sudokus with no solution. In such a case, your function should return a $9 \\times 9$ numpy array whose values are all equal to `-1`.  \n",
    "\n",
    "You may use more than one cell to write your code (but this is not necessary)."
   ]
  },
  {
   "cell_type": "code",
   "execution_count": 7,
   "metadata": {
    "deletable": false,
    "nbgrader": {
     "checksum": "24a16838998341fb01651c0700e52895",
     "grade": false,
     "grade_id": "cell-04002a3e6182aefa",
     "locked": false,
     "schema_version": 1,
     "solution": true
    }
   },
   "outputs": [],
   "source": [
    "def sudoku_solver(sudoku):\n",
    "    \"\"\"\n",
    "    Solves a Sudoku puzzle and returns its unique solution.\n",
    "\n",
    "    Input\n",
    "        sudoku : 9x9 numpy array\n",
    "            Empty cells are designated by 0.\n",
    "\n",
    "    Output\n",
    "        9x9 numpy array of integers\n",
    "            It contains the solution, if there is one. If there is no solution, all array entries should be -1.\n",
    "    \"\"\"\n",
    "    \n",
    "    ### YOUR CODE HERE\n",
    "    solvedSudoku = solve(sudoku)\n",
    "    \n",
    "    if(solvedSudoku is not False):\n",
    "        return solvedSudoku\n",
    "    else:\n",
    "        failedArray = np.zeros([9,9])\n",
    "        failedArray.fill(-1)\n",
    "        return failedArray\n",
    "                \n",
    "def solve(sudoku):\n",
    "    solvedSudoku = np.copy(sudoku)\n",
    "    \n",
    "    #for each row in the sudoku\n",
    "    for row in range(9):\n",
    "        #for each column in the row\n",
    "        for col in range(9):\n",
    "            #if it is an empty cell\n",
    "            if(solvedSudoku[row][col] == 0):\n",
    "                #find the possibilities for that cell\n",
    "                possibilities = checkPossibilities(solvedSudoku,row,col)\n",
    "            \n",
    "                for value in range(len(possibilities)):\n",
    "                    solvedSudoku[row][col] = possibilities[value]\n",
    "                    nextSudoku = solve(solvedSudoku)\n",
    "                    if(nextSudoku is not False):\n",
    "                        return nextSudoku\n",
    "                return False\n",
    "            \n",
    "    return solvedSudoku\n",
    "\n",
    "#function to check possible values for a cell\n",
    "def checkPossibilities(sudoku,row,col):\n",
    "    possibilities = [1,2,3,4,5,6,7,8,9]\n",
    "    #if a value is in row with the cell, remove it from possibilities\n",
    "    for r in range(9):\n",
    "        if possibilities == []:\n",
    "            return possibilities\n",
    "        if(sudoku[r][col] in possibilities):\n",
    "            possibilities.remove(sudoku[r][col])\n",
    "    #if a value is in column with the cell, remove it from possibilities\n",
    "    for c in range(9):\n",
    "        if possibilities == []:\n",
    "            return possibilities\n",
    "        if(sudoku[row][c] in possibilities):\n",
    "            possibilities.remove(sudoku[row][c])\n",
    "    #if a value is in the same 3x3 'square' as cell, remove it from possibilities\n",
    "    for r in range(3):\n",
    "        for c in range(3):\n",
    "            if possibilities == []:\n",
    "                return possibilities\n",
    "            if(sudoku[3*math.floor(row/3)+r][3*math.floor(col/3)+c] in possibilities):\n",
    "                possibilities.remove(sudoku[3*math.floor(row/3)+r][3*math.floor(col/3)+c])\n",
    "    #return remaining possible values for given cell\n",
    "    return possibilities"
   ]
  },
  {
   "cell_type": "markdown",
   "metadata": {},
   "source": [
    "## Testing your code\n",
    "\n",
    "You can test your code on the sudoku puzzles that we have provided in the following cell. This will work only if all of your code is above the test cell. Otherwise, the test cell does not have access to the `sudoku_solver()` function. Before you submit, please comment out any code that you used to test your function on the training puzzles."
   ]
  },
  {
   "cell_type": "code",
   "execution_count": 8,
   "metadata": {},
   "outputs": [
    {
     "name": "stdout",
     "output_type": "stream",
     "text": [
      "This is sudoku number 0\n",
      "[[0. 0. 4. 0. 8. 3. 0. 0. 2.]\n",
      " [0. 5. 1. 0. 0. 4. 3. 0. 0.]\n",
      " [0. 0. 0. 0. 9. 6. 7. 1. 0.]\n",
      " [1. 2. 0. 8. 0. 0. 0. 0. 6.]\n",
      " [0. 4. 0. 0. 0. 0. 5. 0. 0.]\n",
      " [8. 3. 0. 6. 0. 7. 9. 0. 0.]\n",
      " [0. 6. 0. 3. 0. 9. 0. 4. 0.]\n",
      " [0. 0. 7. 0. 0. 0. 2. 0. 5.]\n",
      " [0. 9. 0. 0. 5. 0. 8. 0. 3.]]\n",
      "This is your solution for sudoku number 0\n",
      "[[9. 7. 4. 1. 8. 3. 6. 5. 2.]\n",
      " [6. 5. 1. 2. 7. 4. 3. 8. 9.]\n",
      " [2. 8. 3. 5. 9. 6. 7. 1. 4.]\n",
      " [1. 2. 9. 8. 3. 5. 4. 7. 6.]\n",
      " [7. 4. 6. 9. 1. 2. 5. 3. 8.]\n",
      " [8. 3. 5. 6. 4. 7. 9. 2. 1.]\n",
      " [5. 6. 8. 3. 2. 9. 1. 4. 7.]\n",
      " [3. 1. 7. 4. 6. 8. 2. 9. 5.]\n",
      " [4. 9. 2. 7. 5. 1. 8. 6. 3.]]\n",
      "Is your solution correct?\n",
      "True\n",
      "This is sudoku number 1\n",
      "[[0. 0. 0. 0. 6. 0. 2. 8. 0.]\n",
      " [7. 0. 9. 0. 0. 1. 0. 0. 0.]\n",
      " [8. 6. 0. 3. 2. 0. 0. 7. 4.]\n",
      " [9. 0. 0. 0. 4. 0. 5. 1. 0.]\n",
      " [0. 0. 7. 1. 9. 0. 3. 4. 0.]\n",
      " [0. 0. 3. 0. 0. 6. 0. 0. 2.]\n",
      " [0. 0. 2. 9. 7. 0. 0. 0. 0.]\n",
      " [3. 0. 0. 8. 0. 0. 9. 0. 5.]\n",
      " [5. 0. 0. 0. 0. 0. 0. 2. 1.]]\n",
      "This is your solution for sudoku number 1\n",
      "[[4. 3. 1. 5. 6. 7. 2. 8. 9.]\n",
      " [7. 2. 9. 4. 8. 1. 6. 5. 3.]\n",
      " [8. 6. 5. 3. 2. 9. 1. 7. 4.]\n",
      " [9. 8. 6. 2. 4. 3. 5. 1. 7.]\n",
      " [2. 5. 7. 1. 9. 8. 3. 4. 6.]\n",
      " [1. 4. 3. 7. 5. 6. 8. 9. 2.]\n",
      " [6. 1. 2. 9. 7. 5. 4. 3. 8.]\n",
      " [3. 7. 4. 8. 1. 2. 9. 6. 5.]\n",
      " [5. 9. 8. 6. 3. 4. 7. 2. 1.]]\n",
      "Is your solution correct?\n",
      "True\n",
      "This is sudoku number 2\n",
      "[[0. 0. 4. 3. 0. 0. 0. 0. 0.]\n",
      " [8. 9. 0. 2. 0. 0. 6. 7. 0.]\n",
      " [7. 0. 0. 9. 0. 0. 0. 5. 0.]\n",
      " [5. 0. 0. 0. 0. 8. 1. 4. 0.]\n",
      " [0. 7. 0. 0. 3. 2. 0. 6. 0.]\n",
      " [6. 0. 0. 0. 0. 1. 3. 0. 8.]\n",
      " [0. 0. 1. 7. 5. 0. 9. 0. 0.]\n",
      " [0. 0. 5. 0. 4. 0. 0. 1. 2.]\n",
      " [9. 8. 0. 0. 0. 6. 0. 0. 5.]]\n",
      "This is your solution for sudoku number 2\n",
      "[[2. 5. 4. 3. 6. 7. 8. 9. 1.]\n",
      " [8. 9. 3. 2. 1. 5. 6. 7. 4.]\n",
      " [7. 1. 6. 9. 8. 4. 2. 5. 3.]\n",
      " [5. 3. 2. 6. 9. 8. 1. 4. 7.]\n",
      " [1. 7. 8. 4. 3. 2. 5. 6. 9.]\n",
      " [6. 4. 9. 5. 7. 1. 3. 2. 8.]\n",
      " [4. 2. 1. 7. 5. 3. 9. 8. 6.]\n",
      " [3. 6. 5. 8. 4. 9. 7. 1. 2.]\n",
      " [9. 8. 7. 1. 2. 6. 4. 3. 5.]]\n",
      "Is your solution correct?\n",
      "True\n",
      "This is sudoku number 3\n",
      "[[0. 0. 8. 0. 7. 0. 1. 0. 0.]\n",
      " [1. 2. 0. 0. 9. 0. 0. 5. 4.]\n",
      " [0. 0. 0. 0. 0. 3. 0. 2. 0.]\n",
      " [6. 0. 4. 0. 1. 0. 0. 8. 9.]\n",
      " [5. 3. 0. 7. 8. 0. 0. 1. 0.]\n",
      " [0. 0. 9. 0. 6. 2. 3. 0. 0.]\n",
      " [0. 8. 0. 0. 4. 0. 6. 0. 7.]\n",
      " [0. 0. 7. 5. 0. 6. 0. 0. 0.]\n",
      " [4. 0. 0. 8. 0. 0. 0. 0. 2.]]\n",
      "This is your solution for sudoku number 3\n",
      "[[9. 5. 8. 2. 7. 4. 1. 6. 3.]\n",
      " [1. 2. 3. 6. 9. 8. 7. 5. 4.]\n",
      " [7. 4. 6. 1. 5. 3. 9. 2. 8.]\n",
      " [6. 7. 4. 3. 1. 5. 2. 8. 9.]\n",
      " [5. 3. 2. 7. 8. 9. 4. 1. 6.]\n",
      " [8. 1. 9. 4. 6. 2. 3. 7. 5.]\n",
      " [2. 8. 5. 9. 4. 1. 6. 3. 7.]\n",
      " [3. 9. 7. 5. 2. 6. 8. 4. 1.]\n",
      " [4. 6. 1. 8. 3. 7. 5. 9. 2.]]\n",
      "Is your solution correct?\n",
      "True\n",
      "This is sudoku number 4\n",
      "[[0. 6. 5. 3. 7. 0. 0. 0. 2.]\n",
      " [0. 0. 0. 0. 0. 1. 3. 7. 0.]\n",
      " [0. 0. 0. 6. 4. 0. 8. 0. 0.]\n",
      " [0. 9. 7. 0. 0. 4. 0. 2. 8.]\n",
      " [0. 8. 0. 0. 9. 0. 0. 0. 1.]\n",
      " [1. 0. 0. 0. 2. 0. 9. 4. 0.]\n",
      " [0. 4. 0. 0. 0. 6. 7. 0. 0.]\n",
      " [0. 7. 0. 0. 1. 8. 0. 5. 0.]\n",
      " [2. 3. 0. 9. 0. 0. 0. 6. 0.]]\n",
      "This is your solution for sudoku number 4\n",
      "[[8. 6. 5. 3. 7. 9. 4. 1. 2.]\n",
      " [9. 2. 4. 5. 8. 1. 3. 7. 6.]\n",
      " [7. 1. 3. 6. 4. 2. 8. 9. 5.]\n",
      " [3. 9. 7. 1. 6. 4. 5. 2. 8.]\n",
      " [4. 8. 2. 7. 9. 5. 6. 3. 1.]\n",
      " [1. 5. 6. 8. 2. 3. 9. 4. 7.]\n",
      " [5. 4. 1. 2. 3. 6. 7. 8. 9.]\n",
      " [6. 7. 9. 4. 1. 8. 2. 5. 3.]\n",
      " [2. 3. 8. 9. 5. 7. 1. 6. 4.]]\n",
      "Is your solution correct?\n",
      "True\n",
      "This is sudoku number 5\n",
      "[[0. 0. 5. 7. 1. 0. 3. 2. 9.]\n",
      " [0. 0. 0. 3. 6. 2. 8. 0. 0.]\n",
      " [0. 0. 4. 0. 0. 0. 0. 0. 0.]\n",
      " [1. 0. 0. 0. 0. 0. 9. 8. 0.]\n",
      " [0. 8. 3. 9. 0. 0. 2. 5. 0.]\n",
      " [0. 0. 6. 0. 0. 3. 1. 0. 0.]\n",
      " [3. 0. 0. 1. 0. 6. 0. 0. 0.]\n",
      " [4. 0. 9. 8. 0. 0. 0. 0. 7.]\n",
      " [0. 7. 0. 0. 2. 9. 5. 0. 0.]]\n",
      "This is your solution for sudoku number 5\n",
      "[[8. 6. 5. 7. 1. 4. 3. 2. 9.]\n",
      " [9. 1. 7. 3. 6. 2. 8. 4. 5.]\n",
      " [2. 3. 4. 5. 9. 8. 7. 6. 1.]\n",
      " [1. 4. 2. 6. 5. 7. 9. 8. 3.]\n",
      " [7. 8. 3. 9. 4. 1. 2. 5. 6.]\n",
      " [5. 9. 6. 2. 8. 3. 1. 7. 4.]\n",
      " [3. 5. 8. 1. 7. 6. 4. 9. 2.]\n",
      " [4. 2. 9. 8. 3. 5. 6. 1. 7.]\n",
      " [6. 7. 1. 4. 2. 9. 5. 3. 8.]]\n",
      "Is your solution correct?\n",
      "True\n",
      "This is sudoku number 6\n",
      "[[2. 0. 0. 0. 0. 5. 3. 0. 0.]\n",
      " [0. 0. 0. 0. 7. 3. 8. 5. 0.]\n",
      " [0. 0. 0. 1. 0. 8. 9. 0. 4.]\n",
      " [0. 7. 0. 0. 0. 9. 0. 0. 1.]\n",
      " [6. 5. 1. 0. 0. 0. 0. 4. 0.]\n",
      " [0. 4. 0. 2. 0. 0. 0. 8. 0.]\n",
      " [3. 0. 0. 0. 5. 0. 0. 0. 0.]\n",
      " [5. 8. 0. 7. 6. 0. 1. 0. 0.]\n",
      " [4. 1. 0. 0. 3. 0. 0. 9. 6.]]\n",
      "This is your solution for sudoku number 6\n",
      "[[2. 6. 8. 4. 9. 5. 3. 1. 7.]\n",
      " [1. 9. 4. 6. 7. 3. 8. 5. 2.]\n",
      " [7. 3. 5. 1. 2. 8. 9. 6. 4.]\n",
      " [8. 7. 2. 5. 4. 9. 6. 3. 1.]\n",
      " [6. 5. 1. 3. 8. 7. 2. 4. 9.]\n",
      " [9. 4. 3. 2. 1. 6. 7. 8. 5.]\n",
      " [3. 2. 6. 9. 5. 1. 4. 7. 8.]\n",
      " [5. 8. 9. 7. 6. 4. 1. 2. 3.]\n",
      " [4. 1. 7. 8. 3. 2. 5. 9. 6.]]\n",
      "Is your solution correct?\n",
      "True\n",
      "This is sudoku number 7\n",
      "[[0. 0. 4. 3. 0. 0. 2. 0. 9.]\n",
      " [0. 0. 5. 0. 0. 9. 0. 0. 1.]\n",
      " [0. 7. 0. 0. 6. 0. 0. 4. 3.]\n",
      " [0. 0. 6. 0. 0. 2. 0. 8. 7.]\n",
      " [1. 9. 0. 0. 0. 7. 4. 0. 0.]\n",
      " [0. 5. 0. 0. 8. 3. 0. 0. 0.]\n",
      " [6. 0. 0. 0. 0. 0. 1. 0. 5.]\n",
      " [0. 0. 3. 5. 0. 8. 6. 9. 0.]\n",
      " [0. 4. 2. 9. 1. 0. 3. 0. 0.]]\n",
      "This is your solution for sudoku number 7\n",
      "[[8. 6. 4. 3. 7. 1. 2. 5. 9.]\n",
      " [3. 2. 5. 8. 4. 9. 7. 6. 1.]\n",
      " [9. 7. 1. 2. 6. 5. 8. 4. 3.]\n",
      " [4. 3. 6. 1. 9. 2. 5. 8. 7.]\n",
      " [1. 9. 8. 6. 5. 7. 4. 3. 2.]\n",
      " [2. 5. 7. 4. 8. 3. 9. 1. 6.]\n",
      " [6. 8. 9. 7. 3. 4. 1. 2. 5.]\n",
      " [7. 1. 3. 5. 2. 8. 6. 9. 4.]\n",
      " [5. 4. 2. 9. 1. 6. 3. 7. 8.]]\n",
      "Is your solution correct?\n",
      "True\n",
      "This is sudoku number 8\n",
      "[[0. 4. 0. 1. 0. 0. 0. 5. 0.]\n",
      " [1. 0. 7. 0. 0. 3. 9. 6. 0.]\n",
      " [5. 2. 0. 0. 0. 8. 0. 0. 0.]\n",
      " [0. 0. 0. 0. 0. 0. 0. 1. 7.]\n",
      " [0. 0. 0. 9. 0. 6. 8. 0. 0.]\n",
      " [8. 0. 3. 0. 5. 0. 6. 2. 0.]\n",
      " [0. 9. 0. 0. 6. 0. 5. 4. 3.]\n",
      " [6. 0. 0. 0. 8. 0. 7. 0. 0.]\n",
      " [2. 5. 0. 0. 9. 7. 1. 0. 0.]]\n",
      "This is your solution for sudoku number 8\n",
      "[[3. 4. 6. 1. 7. 9. 2. 5. 8.]\n",
      " [1. 8. 7. 5. 2. 3. 9. 6. 4.]\n",
      " [5. 2. 9. 6. 4. 8. 3. 7. 1.]\n",
      " [9. 6. 5. 8. 3. 2. 4. 1. 7.]\n",
      " [4. 7. 2. 9. 1. 6. 8. 3. 5.]\n",
      " [8. 1. 3. 7. 5. 4. 6. 2. 9.]\n",
      " [7. 9. 8. 2. 6. 1. 5. 4. 3.]\n",
      " [6. 3. 1. 4. 8. 5. 7. 9. 2.]\n",
      " [2. 5. 4. 3. 9. 7. 1. 8. 6.]]\n",
      "Is your solution correct?\n",
      "True\n",
      "This is sudoku number 9\n",
      "[[4. 9. 7. 2. 0. 0. 0. 0. 0.]\n",
      " [1. 0. 0. 4. 0. 0. 0. 0. 5.]\n",
      " [0. 0. 0. 0. 1. 6. 0. 9. 8.]\n",
      " [6. 2. 0. 3. 0. 0. 0. 4. 0.]\n",
      " [3. 0. 0. 9. 0. 0. 0. 0. 0.]\n",
      " [0. 0. 1. 0. 7. 2. 6. 0. 0.]\n",
      " [0. 0. 2. 0. 0. 5. 8. 7. 0.]\n",
      " [0. 0. 0. 6. 0. 0. 0. 0. 4.]\n",
      " [5. 3. 0. 0. 9. 7. 0. 6. 1.]]\n",
      "This is your solution for sudoku number 9\n",
      "[[4. 9. 7. 2. 5. 8. 3. 1. 6.]\n",
      " [1. 8. 6. 4. 3. 9. 7. 2. 5.]\n",
      " [2. 5. 3. 7. 1. 6. 4. 9. 8.]\n",
      " [6. 2. 9. 3. 8. 1. 5. 4. 7.]\n",
      " [3. 7. 5. 9. 6. 4. 1. 8. 2.]\n",
      " [8. 4. 1. 5. 7. 2. 6. 3. 9.]\n",
      " [9. 6. 2. 1. 4. 5. 8. 7. 3.]\n",
      " [7. 1. 8. 6. 2. 3. 9. 5. 4.]\n",
      " [5. 3. 4. 8. 9. 7. 2. 6. 1.]]\n",
      "Is your solution correct?\n",
      "True\n",
      "This is sudoku number 10\n",
      "[[2. 3. 0. 0. 1. 0. 8. 0. 9.]\n",
      " [5. 0. 9. 5. 0. 0. 0. 4. 1.]\n",
      " [4. 0. 0. 0. 8. 3. 0. 0. 2.]\n",
      " [0. 7. 0. 0. 2. 0. 9. 6. 0.]\n",
      " [0. 0. 0. 0. 0. 5. 7. 0. 0.]\n",
      " [1. 8. 6. 7. 0. 4. 2. 0. 0.]\n",
      " [7. 0. 5. 0. 0. 1. 0. 0. 0.]\n",
      " [0. 1. 0. 0. 0. 0. 0. 0. 3.]\n",
      " [0. 4. 2. 6. 0. 0. 0. 8. 0.]]\n",
      "This is your solution for sudoku number 10\n",
      "[[-1. -1. -1. -1. -1. -1. -1. -1. -1.]\n",
      " [-1. -1. -1. -1. -1. -1. -1. -1. -1.]\n",
      " [-1. -1. -1. -1. -1. -1. -1. -1. -1.]\n",
      " [-1. -1. -1. -1. -1. -1. -1. -1. -1.]\n",
      " [-1. -1. -1. -1. -1. -1. -1. -1. -1.]\n",
      " [-1. -1. -1. -1. -1. -1. -1. -1. -1.]\n",
      " [-1. -1. -1. -1. -1. -1. -1. -1. -1.]\n",
      " [-1. -1. -1. -1. -1. -1. -1. -1. -1.]\n",
      " [-1. -1. -1. -1. -1. -1. -1. -1. -1.]]\n",
      "Is your solution correct?\n",
      "True\n",
      "This is sudoku number 11\n",
      "[[8. 0. 2. 1. 3. 0. 6. 4. 0.]\n",
      " [9. 0. 1. 0. 0. 7. 0. 0. 8.]\n",
      " [0. 6. 0. 5. 0. 2. 7. 0. 0.]\n",
      " [0. 0. 9. 0. 0. 0. 3. 0. 5.]\n",
      " [5. 0. 0. 0. 7. 3. 0. 0. 0.]\n",
      " [1. 8. 0. 4. 0. 0. 2. 0. 0.]\n",
      " [3. 0. 0. 0. 6. 0. 0. 5. 0.]\n",
      " [0. 0. 0. 0. 8. 0. 4. 0. 6.]\n",
      " [0. 0. 7. 9. 0. 5. 0. 0. 1.]]\n",
      "This is your solution for sudoku number 11\n",
      "[[-1. -1. -1. -1. -1. -1. -1. -1. -1.]\n",
      " [-1. -1. -1. -1. -1. -1. -1. -1. -1.]\n",
      " [-1. -1. -1. -1. -1. -1. -1. -1. -1.]\n",
      " [-1. -1. -1. -1. -1. -1. -1. -1. -1.]\n",
      " [-1. -1. -1. -1. -1. -1. -1. -1. -1.]\n",
      " [-1. -1. -1. -1. -1. -1. -1. -1. -1.]\n",
      " [-1. -1. -1. -1. -1. -1. -1. -1. -1.]\n",
      " [-1. -1. -1. -1. -1. -1. -1. -1. -1.]\n",
      " [-1. -1. -1. -1. -1. -1. -1. -1. -1.]]\n",
      "Is your solution correct?\n",
      "True\n",
      "This is sudoku number 12\n",
      "[[4. 6. 1. 0. 0. 0. 0. 0. 3.]\n",
      " [2. 0. 0. 0. 9. 4. 0. 7. 0.]\n",
      " [0. 0. 5. 0. 2. 1. 0. 6. 0.]\n",
      " [0. 0. 0. 0. 0. 2. 0. 0. 7.]\n",
      " [8. 0. 9. 0. 5. 0. 3. 0. 0.]\n",
      " [0. 7. 0. 0. 3. 0. 9. 0. 4.]\n",
      " [1. 8. 0. 0. 4. 0. 0. 0. 5.]\n",
      " [5. 0. 6. 7. 8. 0. 0. 1. 2.]\n",
      " [0. 0. 3. 0. 0. 6. 0. 9. 0.]]\n",
      "This is your solution for sudoku number 12\n",
      "[[-1. -1. -1. -1. -1. -1. -1. -1. -1.]\n",
      " [-1. -1. -1. -1. -1. -1. -1. -1. -1.]\n",
      " [-1. -1. -1. -1. -1. -1. -1. -1. -1.]\n",
      " [-1. -1. -1. -1. -1. -1. -1. -1. -1.]\n",
      " [-1. -1. -1. -1. -1. -1. -1. -1. -1.]\n",
      " [-1. -1. -1. -1. -1. -1. -1. -1. -1.]\n",
      " [-1. -1. -1. -1. -1. -1. -1. -1. -1.]\n",
      " [-1. -1. -1. -1. -1. -1. -1. -1. -1.]\n",
      " [-1. -1. -1. -1. -1. -1. -1. -1. -1.]]\n",
      "Is your solution correct?\n",
      "True\n",
      "This is sudoku number 13\n",
      "[[3. 0. 5. 1. 8. 7. 2. 0. 4.]\n",
      " [0. 0. 6. 4. 0. 0. 3. 0. 5.]\n",
      " [0. 1. 0. 0. 0. 5. 0. 9. 0.]\n",
      " [0. 0. 1. 6. 0. 0. 0. 0. 0.]\n",
      " [5. 0. 8. 0. 3. 0. 0. 4. 7.]\n",
      " [0. 2. 0. 9. 0. 0. 1. 8. 0.]\n",
      " [0. 0. 9. 0. 0. 0. 0. 0. 0.]\n",
      " [0. 8. 0. 0. 2. 0. 4. 7. 6.]\n",
      " [7. 0. 4. 8. 0. 3. 0. 0. 2.]]\n",
      "This is your solution for sudoku number 13\n",
      "[[-1. -1. -1. -1. -1. -1. -1. -1. -1.]\n",
      " [-1. -1. -1. -1. -1. -1. -1. -1. -1.]\n",
      " [-1. -1. -1. -1. -1. -1. -1. -1. -1.]\n",
      " [-1. -1. -1. -1. -1. -1. -1. -1. -1.]\n",
      " [-1. -1. -1. -1. -1. -1. -1. -1. -1.]\n",
      " [-1. -1. -1. -1. -1. -1. -1. -1. -1.]\n",
      " [-1. -1. -1. -1. -1. -1. -1. -1. -1.]\n",
      " [-1. -1. -1. -1. -1. -1. -1. -1. -1.]\n",
      " [-1. -1. -1. -1. -1. -1. -1. -1. -1.]]\n",
      "Is your solution correct?\n",
      "True\n",
      "This is sudoku number 14\n",
      "[[2. 4. 0. 6. 9. 0. 5. 0. 0.]\n",
      " [3. 0. 0. 0. 0. 0. 2. 0. 0.]\n",
      " [6. 1. 0. 0. 0. 4. 8. 0. 7.]\n",
      " [0. 0. 0. 0. 3. 8. 0. 2. 0.]\n",
      " [0. 0. 0. 0. 5. 0. 7. 6. 0.]\n",
      " [1. 2. 4. 9. 7. 0. 3. 0. 0.]\n",
      " [0. 9. 8. 5. 6. 0. 0. 7. 0.]\n",
      " [0. 0. 0. 2. 0. 0. 6. 0. 0.]\n",
      " [0. 3. 0. 0. 0. 1. 0. 0. 4.]]\n",
      "This is your solution for sudoku number 14\n",
      "[[-1. -1. -1. -1. -1. -1. -1. -1. -1.]\n",
      " [-1. -1. -1. -1. -1. -1. -1. -1. -1.]\n",
      " [-1. -1. -1. -1. -1. -1. -1. -1. -1.]\n",
      " [-1. -1. -1. -1. -1. -1. -1. -1. -1.]\n",
      " [-1. -1. -1. -1. -1. -1. -1. -1. -1.]\n",
      " [-1. -1. -1. -1. -1. -1. -1. -1. -1.]\n",
      " [-1. -1. -1. -1. -1. -1. -1. -1. -1.]\n",
      " [-1. -1. -1. -1. -1. -1. -1. -1. -1.]\n",
      " [-1. -1. -1. -1. -1. -1. -1. -1. -1.]]\n",
      "Is your solution correct?\n",
      "True\n",
      "This is sudoku number 15\n",
      "[[0. 0. 0. 0. 0. 0. 0. 5. 0.]\n",
      " [0. 0. 0. 7. 2. 1. 0. 0. 0.]\n",
      " [0. 7. 0. 0. 0. 0. 9. 4. 0.]\n",
      " [0. 3. 0. 0. 0. 0. 0. 0. 9.]\n",
      " [2. 0. 0. 8. 0. 0. 0. 6. 0.]\n",
      " [0. 0. 0. 0. 6. 0. 7. 0. 8.]\n",
      " [0. 9. 0. 0. 0. 0. 0. 0. 0.]\n",
      " [3. 0. 0. 0. 0. 8. 0. 1. 0.]\n",
      " [0. 0. 5. 0. 0. 6. 0. 0. 0.]]\n"
     ]
    },
    {
     "name": "stdout",
     "output_type": "stream",
     "text": [
      "This is your solution for sudoku number 15\n",
      "[[1. 6. 3. 4. 8. 9. 2. 5. 7.]\n",
      " [9. 5. 4. 7. 2. 1. 6. 8. 3.]\n",
      " [8. 7. 2. 6. 3. 5. 9. 4. 1.]\n",
      " [6. 3. 8. 5. 1. 7. 4. 2. 9.]\n",
      " [2. 4. 7. 8. 9. 3. 1. 6. 5.]\n",
      " [5. 1. 9. 2. 6. 4. 7. 3. 8.]\n",
      " [4. 9. 1. 3. 5. 2. 8. 7. 6.]\n",
      " [3. 2. 6. 9. 7. 8. 5. 1. 4.]\n",
      " [7. 8. 5. 1. 4. 6. 3. 9. 2.]]\n",
      "Is your solution correct?\n",
      "True\n",
      "This is sudoku number 16\n",
      "[[0. 7. 0. 0. 6. 0. 0. 0. 5.]\n",
      " [9. 0. 0. 2. 1. 0. 0. 3. 0.]\n",
      " [0. 0. 0. 0. 0. 0. 6. 0. 4.]\n",
      " [2. 0. 0. 0. 3. 0. 0. 0. 0.]\n",
      " [0. 0. 0. 0. 0. 6. 0. 0. 8.]\n",
      " [0. 1. 0. 7. 0. 9. 0. 5. 0.]\n",
      " [0. 0. 4. 0. 5. 0. 2. 0. 0.]\n",
      " [1. 0. 7. 3. 0. 0. 0. 0. 0.]\n",
      " [0. 0. 0. 0. 0. 1. 0. 0. 0.]]\n",
      "This is your solution for sudoku number 16\n",
      "[[4. 7. 1. 8. 6. 3. 9. 2. 5.]\n",
      " [9. 5. 6. 2. 1. 4. 8. 3. 7.]\n",
      " [8. 2. 3. 9. 7. 5. 6. 1. 4.]\n",
      " [2. 4. 9. 5. 3. 8. 1. 7. 6.]\n",
      " [7. 3. 5. 1. 2. 6. 4. 9. 8.]\n",
      " [6. 1. 8. 7. 4. 9. 3. 5. 2.]\n",
      " [3. 9. 4. 6. 5. 7. 2. 8. 1.]\n",
      " [1. 6. 7. 3. 8. 2. 5. 4. 9.]\n",
      " [5. 8. 2. 4. 9. 1. 7. 6. 3.]]\n",
      "Is your solution correct?\n",
      "True\n",
      "This is sudoku number 17\n",
      "[[0. 0. 2. 4. 0. 0. 0. 8. 0.]\n",
      " [0. 4. 0. 7. 3. 0. 0. 0. 0.]\n",
      " [0. 0. 0. 0. 0. 8. 0. 0. 1.]\n",
      " [0. 0. 0. 0. 4. 0. 0. 0. 2.]\n",
      " [6. 2. 0. 1. 0. 0. 0. 0. 0.]\n",
      " [0. 0. 0. 0. 0. 5. 1. 0. 8.]\n",
      " [0. 0. 1. 0. 0. 0. 0. 0. 4.]\n",
      " [0. 0. 5. 0. 0. 0. 6. 0. 0.]\n",
      " [0. 0. 9. 0. 0. 2. 3. 0. 0.]]\n",
      "This is your solution for sudoku number 17\n",
      "[[1. 3. 2. 4. 5. 9. 7. 8. 6.]\n",
      " [8. 4. 6. 7. 3. 1. 2. 5. 9.]\n",
      " [9. 5. 7. 2. 6. 8. 4. 3. 1.]\n",
      " [5. 1. 3. 8. 4. 6. 9. 7. 2.]\n",
      " [6. 2. 8. 1. 9. 7. 5. 4. 3.]\n",
      " [7. 9. 4. 3. 2. 5. 1. 6. 8.]\n",
      " [2. 6. 1. 5. 7. 3. 8. 9. 4.]\n",
      " [3. 8. 5. 9. 1. 4. 6. 2. 7.]\n",
      " [4. 7. 9. 6. 8. 2. 3. 1. 5.]]\n",
      "Is your solution correct?\n",
      "True\n",
      "This is sudoku number 18\n",
      "[[0. 0. 7. 2. 0. 0. 0. 0. 0.]\n",
      " [9. 0. 0. 3. 0. 0. 8. 2. 0.]\n",
      " [0. 0. 0. 0. 8. 0. 0. 0. 6.]\n",
      " [0. 8. 0. 0. 0. 4. 3. 0. 0.]\n",
      " [0. 0. 1. 0. 0. 0. 0. 5. 0.]\n",
      " [0. 2. 0. 5. 1. 0. 0. 4. 8.]\n",
      " [0. 0. 0. 0. 9. 6. 2. 0. 0.]\n",
      " [0. 0. 0. 0. 0. 0. 0. 0. 0.]\n",
      " [0. 1. 0. 0. 5. 0. 0. 8. 3.]]\n",
      "This is your solution for sudoku number 18\n",
      "[[8. 3. 7. 2. 6. 5. 4. 9. 1.]\n",
      " [9. 6. 5. 3. 4. 1. 8. 2. 7.]\n",
      " [1. 4. 2. 9. 8. 7. 5. 3. 6.]\n",
      " [5. 8. 9. 6. 7. 4. 3. 1. 2.]\n",
      " [4. 7. 1. 8. 2. 3. 6. 5. 9.]\n",
      " [6. 2. 3. 5. 1. 9. 7. 4. 8.]\n",
      " [3. 5. 8. 1. 9. 6. 2. 7. 4.]\n",
      " [2. 9. 4. 7. 3. 8. 1. 6. 5.]\n",
      " [7. 1. 6. 4. 5. 2. 9. 8. 3.]]\n",
      "Is your solution correct?\n",
      "True\n",
      "This is sudoku number 19\n",
      "[[4. 0. 0. 0. 0. 2. 0. 0. 0.]\n",
      " [0. 0. 9. 6. 0. 0. 0. 1. 2.]\n",
      " [0. 0. 8. 0. 5. 0. 0. 0. 0.]\n",
      " [0. 0. 0. 0. 0. 0. 9. 5. 0.]\n",
      " [0. 0. 0. 0. 8. 6. 0. 3. 0.]\n",
      " [8. 0. 0. 3. 0. 0. 0. 7. 0.]\n",
      " [0. 0. 0. 0. 0. 0. 0. 0. 0.]\n",
      " [0. 3. 0. 0. 0. 0. 0. 0. 7.]\n",
      " [0. 1. 2. 9. 0. 7. 3. 0. 0.]]\n",
      "This is your solution for sudoku number 19\n",
      "[[4. 5. 1. 7. 3. 2. 8. 6. 9.]\n",
      " [3. 7. 9. 6. 4. 8. 5. 1. 2.]\n",
      " [6. 2. 8. 1. 5. 9. 7. 4. 3.]\n",
      " [1. 6. 3. 2. 7. 4. 9. 5. 8.]\n",
      " [2. 9. 7. 5. 8. 6. 4. 3. 1.]\n",
      " [8. 4. 5. 3. 9. 1. 2. 7. 6.]\n",
      " [7. 8. 6. 4. 2. 3. 1. 9. 5.]\n",
      " [9. 3. 4. 8. 1. 5. 6. 2. 7.]\n",
      " [5. 1. 2. 9. 6. 7. 3. 8. 4.]]\n",
      "Is your solution correct?\n",
      "True\n"
     ]
    }
   ],
   "source": [
    "# Uncomment the following block to test your code. Comment it out again before submitting.\n",
    "\n",
    "#for i in range(len(sudokus)):\n",
    "#    sudoku = sudokus[i].copy()\n",
    "#    print(\"This is sudoku number\", i)\n",
    "#    print(sudoku)\n",
    "#    your_solution = sudoku_solver(sudokus[i])\n",
    "#    print(\"This is your solution for sudoku number\", i)\n",
    "#    print(your_solution)\n",
    "#    print(\"Is your solution correct?\")\n",
    "#    print(np.array_equal(your_solution, solutions[i]))\n"
   ]
  },
  {
   "cell_type": "markdown",
   "metadata": {},
   "source": [
    "## How we will test your code\n",
    "\n",
    "We will test your code using the hidden tests in the following cell. Specifically, the hidden tests will test your `sudoku_solver()` function on a different set of 20 sudoku puzzles of similar difficulty. **Make sure all of your code is above our test cell. ** Otherwise, the test cell will not have access to the sudoku_solver() function and you will receive zero marks.\n",
    "\n",
    "## IMPORTANT: How to submit\n",
    "\n",
    "If any of the following instructions is not clear, please ask your tutors well ahead of the submission deadline.\n",
    "\n",
    "#### Before you submit\n",
    "- Restart the kernel (_Kernel $\\rightarrow$ Restart & Run All_) and make sure that you can run all cells from top to bottom without any errors.\n",
    "- Make sure that the test cell has access to the `sudoku_solver()` function that you defined and make sure that this function returns the solved Sudoku in the correct data type and shape.\n",
    "- Please comment out any code that you used to test your function on the training puzzles.\n",
    "- Make sure that your code is written in Python 3 (and not in Python 2!). You can check the Python version of the current session in the top-right corner below the Python logo.\n",
    "\n",
    "#### Submission file\n",
    "- Please upload to Moodle a single Jupyter notebook file called \"ai4_sudoku.ipynb\". Do __not__ compress/zip your Jupyter notebook file.\n",
    "- Do not include __any__ identifying information. Marking is anonymous."
   ]
  },
  {
   "cell_type": "code",
   "execution_count": null,
   "metadata": {
    "deletable": false,
    "editable": false,
    "nbgrader": {
     "checksum": "bd5a0eb4784407571c7c10de2c312bb1",
     "grade": true,
     "grade_id": "cell-79e0e98009b0e252",
     "locked": true,
     "points": 0,
     "schema_version": 1,
     "solution": false
    }
   },
   "outputs": [],
   "source": [
    "# This is a TEST CELL. Do not delete or change. All of your code must be written above this cell. "
   ]
  },
  {
   "cell_type": "code",
   "execution_count": null,
   "metadata": {
    "deletable": false,
    "editable": false,
    "nbgrader": {
     "checksum": "35bb34b233e929c6a0edad7d13f01858",
     "grade": true,
     "grade_id": "cell-2e7deb42a0d7acf3",
     "locked": true,
     "points": 5,
     "schema_version": 1,
     "solution": false
    }
   },
   "outputs": [],
   "source": [
    "# This is a TEST CELL. Do not delete or change. "
   ]
  },
  {
   "cell_type": "code",
   "execution_count": null,
   "metadata": {
    "deletable": false,
    "editable": false,
    "nbgrader": {
     "checksum": "865e347b7c6e3a55b00c240c54a62338",
     "grade": true,
     "grade_id": "cell-386efaa6fafeb3f6",
     "locked": true,
     "points": 5,
     "schema_version": 1,
     "solution": false
    }
   },
   "outputs": [],
   "source": [
    "# This is a TEST CELL. Do not delete or change. "
   ]
  },
  {
   "cell_type": "code",
   "execution_count": null,
   "metadata": {
    "deletable": false,
    "editable": false,
    "nbgrader": {
     "checksum": "172ab9ffb1e3648451d5623f30c9abad",
     "grade": true,
     "grade_id": "cell-66623dfb40a54eb5",
     "locked": true,
     "points": 5,
     "schema_version": 1,
     "solution": false
    }
   },
   "outputs": [],
   "source": [
    "# This is a TEST CELL. Do not delete or change. "
   ]
  },
  {
   "cell_type": "code",
   "execution_count": null,
   "metadata": {
    "deletable": false,
    "editable": false,
    "nbgrader": {
     "checksum": "49c7159d41e86c848476a7890e098ded",
     "grade": true,
     "grade_id": "cell-70e8488333ad4141",
     "locked": true,
     "points": 5,
     "schema_version": 1,
     "solution": false
    }
   },
   "outputs": [],
   "source": [
    "# This is a TEST CELL. Do not delete or change. "
   ]
  },
  {
   "cell_type": "code",
   "execution_count": null,
   "metadata": {
    "deletable": false,
    "editable": false,
    "nbgrader": {
     "checksum": "99a9bd5a7c4f100c533234c3b0e73b47",
     "grade": true,
     "grade_id": "cell-d7e384258321cfe2",
     "locked": true,
     "points": 5,
     "schema_version": 1,
     "solution": false
    }
   },
   "outputs": [],
   "source": [
    "# This is a TEST CELL. Do not delete or change. "
   ]
  },
  {
   "cell_type": "code",
   "execution_count": null,
   "metadata": {
    "deletable": false,
    "editable": false,
    "nbgrader": {
     "checksum": "779a6bb43ea64f47f861dc489ffc0416",
     "grade": true,
     "grade_id": "cell-7918223ea8eaf312",
     "locked": true,
     "points": 5,
     "schema_version": 1,
     "solution": false
    }
   },
   "outputs": [],
   "source": [
    "# This is a TEST CELL. Do not delete or change. "
   ]
  },
  {
   "cell_type": "code",
   "execution_count": null,
   "metadata": {
    "deletable": false,
    "editable": false,
    "nbgrader": {
     "checksum": "ab1f375f03315aa7db6ff6dda3a3bc7a",
     "grade": true,
     "grade_id": "cell-45bc083ed87bc300",
     "locked": true,
     "points": 5,
     "schema_version": 1,
     "solution": false
    }
   },
   "outputs": [],
   "source": [
    "# This is a TEST CELL. Do not delete or change. "
   ]
  },
  {
   "cell_type": "code",
   "execution_count": null,
   "metadata": {
    "deletable": false,
    "editable": false,
    "nbgrader": {
     "checksum": "426915305e6b4ad283b060dd72404921",
     "grade": true,
     "grade_id": "cell-5f8b3d1855ee6285",
     "locked": true,
     "points": 5,
     "schema_version": 1,
     "solution": false
    }
   },
   "outputs": [],
   "source": [
    "# This is a TEST CELL. Do not delete or change. "
   ]
  },
  {
   "cell_type": "code",
   "execution_count": null,
   "metadata": {
    "deletable": false,
    "editable": false,
    "nbgrader": {
     "checksum": "7729874baf67a3152451b073b3a9b8a5",
     "grade": true,
     "grade_id": "cell-fea335bb606b7a26",
     "locked": true,
     "points": 5,
     "schema_version": 1,
     "solution": false
    }
   },
   "outputs": [],
   "source": [
    "# This is a TEST CELL. Do not delete or change. "
   ]
  },
  {
   "cell_type": "code",
   "execution_count": null,
   "metadata": {
    "deletable": false,
    "editable": false,
    "nbgrader": {
     "checksum": "83674d9746c48cf42255f6ea089d47d0",
     "grade": true,
     "grade_id": "cell-4834cac84f1ddf4b",
     "locked": true,
     "points": 5,
     "schema_version": 1,
     "solution": false
    }
   },
   "outputs": [],
   "source": [
    "# This is a TEST CELL. Do not delete or change. "
   ]
  },
  {
   "cell_type": "code",
   "execution_count": null,
   "metadata": {
    "deletable": false,
    "editable": false,
    "nbgrader": {
     "checksum": "0016c6a3b0af63eef4acf2aab0bd7570",
     "grade": true,
     "grade_id": "cell-5b7a623f2f5a1328",
     "locked": true,
     "points": 5,
     "schema_version": 1,
     "solution": false
    }
   },
   "outputs": [],
   "source": [
    "# This is a TEST CELL. Do not delete or change. "
   ]
  },
  {
   "cell_type": "code",
   "execution_count": null,
   "metadata": {
    "deletable": false,
    "editable": false,
    "nbgrader": {
     "checksum": "47ef2214017769ada8ffb3e4e2afee58",
     "grade": true,
     "grade_id": "cell-a8eb2d8290007a39",
     "locked": true,
     "points": 5,
     "schema_version": 1,
     "solution": false
    }
   },
   "outputs": [],
   "source": [
    "# This is a TEST CELL. Do not delete or change. "
   ]
  },
  {
   "cell_type": "code",
   "execution_count": null,
   "metadata": {
    "deletable": false,
    "editable": false,
    "nbgrader": {
     "checksum": "f133004976120f94439289ef0efe72af",
     "grade": true,
     "grade_id": "cell-55f416dcd3cc7369",
     "locked": true,
     "points": 5,
     "schema_version": 1,
     "solution": false
    }
   },
   "outputs": [],
   "source": [
    "# This is a TEST CELL. Do not delete or change. "
   ]
  },
  {
   "cell_type": "code",
   "execution_count": null,
   "metadata": {
    "deletable": false,
    "editable": false,
    "nbgrader": {
     "checksum": "ced72d45a1174daa0a3bdfe7108e8c09",
     "grade": true,
     "grade_id": "cell-823bb259328b6edd",
     "locked": true,
     "points": 5,
     "schema_version": 1,
     "solution": false
    }
   },
   "outputs": [],
   "source": [
    "# This is a TEST CELL. Do not delete or change. "
   ]
  },
  {
   "cell_type": "code",
   "execution_count": null,
   "metadata": {
    "deletable": false,
    "editable": false,
    "nbgrader": {
     "checksum": "59dd8edc6c7f9452b7240a3813390d3c",
     "grade": true,
     "grade_id": "cell-4cd5275287de683e",
     "locked": true,
     "points": 5,
     "schema_version": 1,
     "solution": false
    }
   },
   "outputs": [],
   "source": [
    "# This is a TEST CELL. Do not delete or change. "
   ]
  },
  {
   "cell_type": "code",
   "execution_count": null,
   "metadata": {
    "deletable": false,
    "editable": false,
    "nbgrader": {
     "checksum": "56701646422d6d5c2f132571455c4474",
     "grade": true,
     "grade_id": "cell-78b178ed7727724a",
     "locked": true,
     "points": 5,
     "schema_version": 1,
     "solution": false
    }
   },
   "outputs": [],
   "source": [
    "# This is a TEST CELL. Do not delete or change. "
   ]
  },
  {
   "cell_type": "code",
   "execution_count": null,
   "metadata": {
    "deletable": false,
    "editable": false,
    "nbgrader": {
     "checksum": "77f7f18363ac81d9d330a3ff30ff15a0",
     "grade": true,
     "grade_id": "cell-f4176a7de596e909",
     "locked": true,
     "points": 5,
     "schema_version": 1,
     "solution": false
    }
   },
   "outputs": [],
   "source": [
    "# This is a TEST CELL. Do not delete or change. "
   ]
  },
  {
   "cell_type": "code",
   "execution_count": null,
   "metadata": {
    "deletable": false,
    "editable": false,
    "nbgrader": {
     "checksum": "f4c492fafba057a4b6f7f03a9714e95c",
     "grade": true,
     "grade_id": "cell-c79cc051aaf61eb2",
     "locked": true,
     "points": 5,
     "schema_version": 1,
     "solution": false
    }
   },
   "outputs": [],
   "source": [
    "# This is a TEST CELL. Do not delete or change. "
   ]
  },
  {
   "cell_type": "code",
   "execution_count": null,
   "metadata": {
    "deletable": false,
    "editable": false,
    "nbgrader": {
     "checksum": "85ea93ab5a94d5c20423070e85b2ad8c",
     "grade": true,
     "grade_id": "cell-ec9b5c217f399dbe",
     "locked": true,
     "points": 5,
     "schema_version": 1,
     "solution": false
    }
   },
   "outputs": [],
   "source": [
    "# This is a TEST CELL. Do not delete or change. "
   ]
  },
  {
   "cell_type": "code",
   "execution_count": null,
   "metadata": {
    "deletable": false,
    "editable": false,
    "nbgrader": {
     "checksum": "385a1b7e0eed034b903ef25774d57f95",
     "grade": true,
     "grade_id": "cell-a226f039f4cc2427",
     "locked": true,
     "points": 5,
     "schema_version": 1,
     "solution": false
    }
   },
   "outputs": [],
   "source": [
    "# This is a TEST CELL. Do not delete or change. "
   ]
  }
 ],
 "metadata": {
  "kernelspec": {
   "display_name": "Python 3",
   "language": "python",
   "name": "python3"
  },
  "language_info": {
   "codemirror_mode": {
    "name": "ipython",
    "version": 3
   },
   "file_extension": ".py",
   "mimetype": "text/x-python",
   "name": "python",
   "nbconvert_exporter": "python",
   "pygments_lexer": "ipython3",
   "version": "3.7.4"
  }
 },
 "nbformat": 4,
 "nbformat_minor": 2
}
